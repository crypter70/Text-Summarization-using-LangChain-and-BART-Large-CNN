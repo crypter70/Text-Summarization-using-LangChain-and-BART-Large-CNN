{
 "cells": [
  {
   "cell_type": "markdown",
   "id": "cb29fce0-51d0-4656-938c-9dfedf75735b",
   "metadata": {},
   "source": [
    "# Text Summarization using BART Large CNN"
   ]
  },
  {
   "cell_type": "markdown",
   "id": "b3d6b95f-f343-44eb-9f2a-31a164906368",
   "metadata": {},
   "source": [
    "## Import Libary"
   ]
  },
  {
   "cell_type": "code",
   "execution_count": 1,
   "id": "f23cac9c-3919-4a3d-8846-59845ac19280",
   "metadata": {},
   "outputs": [
    {
     "data": {
      "text/plain": [
       "True"
      ]
     },
     "execution_count": 1,
     "metadata": {},
     "output_type": "execute_result"
    }
   ],
   "source": [
    "from langchain.text_splitter import CharacterTextSplitter\n",
    "from langchain.chains.summarize import load_summarize_chain\n",
    "from langchain.docstore.document import Document\n",
    "from langchain_community.llms import HuggingFaceHub\n",
    "from langchain_community.document_loaders import WebBaseLoader\n",
    "from dotenv import load_dotenv\n",
    "\n",
    "\n",
    "# load HUGGINGFACEHUB_API_TOKEN on .env\n",
    "load_dotenv()"
   ]
  },
  {
   "cell_type": "markdown",
   "id": "59ded220-bfe9-454a-9229-fb223ea26855",
   "metadata": {},
   "source": [
    "## Load LLM and Text Splitter"
   ]
  },
  {
   "cell_type": "code",
   "execution_count": 2,
   "id": "d0096422-7f34-4d50-9067-f9b901142835",
   "metadata": {},
   "outputs": [
    {
     "name": "stderr",
     "output_type": "stream",
     "text": [
      "/Users/crypter70/opt/anaconda3/envs/nlp/lib/python3.11/site-packages/langchain_core/_api/deprecation.py:117: LangChainDeprecationWarning: The class `langchain_community.llms.huggingface_hub.HuggingFaceHub` was deprecated in langchain-community 0.0.21 and will be removed in 0.2.0. Use HuggingFaceEndpoint instead.\n",
      "  warn_deprecated(\n"
     ]
    }
   ],
   "source": [
    "repo_id = \"facebook/bart-large-cnn\"\n",
    "\n",
    "llm = HuggingFaceHub(\n",
    "    repo_id=repo_id, \n",
    "    model_kwargs={\"temperature\":0.5, \"max_length\":1000}, \n",
    ")\n",
    "\n",
    "text_splitter = CharacterTextSplitter()"
   ]
  },
  {
   "cell_type": "markdown",
   "id": "2844c2af-2800-4284-a4ff-ea51a15ed89e",
   "metadata": {},
   "source": [
    "**Deskripsi Parameter**\n",
    "\n",
    "1. **temperature**: Mengendalikan kreativitas atau variasi dari output yang dihasilkan. Nilai yang lebih tinggi menghasilkan output yang lebih acak dan beragam, sementara nilai yang lebih rendah menghasilkan output yang lebih konsisten dan dapat diprediksi. Dalam konteks ini, nilai 0.5 menunjukkan variasi yang moderat.\n",
    "\n",
    "2. **max_length**: Menentukan panjang maksimum dari output yang dihasilkan. Dalam konteks ini, nilai 100 menunjukkan bahwa panjang maksimum dari output yang dihasilkan adalah 100 token atau kata.\n"
   ]
  },
  {
   "cell_type": "markdown",
   "id": "2449cf23-3cf7-4d5c-bf6c-09e49c106454",
   "metadata": {},
   "source": [
    "## Convert Text to Document"
   ]
  },
  {
   "cell_type": "code",
   "execution_count": 3,
   "id": "b3d63287-a820-4615-9d1e-37b012a07a45",
   "metadata": {},
   "outputs": [],
   "source": [
    "data = \"\"\"\n",
    "Natural Language Processing (NLP) is a field of artificial intelligence (AI) that focuses on enabling computers to understand, interpret, \n",
    "and generate human language in a way that is both meaningful and contextually relevant. It encompasses a broad range of tasks and applications, \n",
    "including text analysis, sentiment analysis, language translation, speech recognition, and question answering. NLP techniques leverage computational linguistics, \n",
    "machine learning, and deep learning algorithms to process and analyze large volumes of textual data, extracting valuable insights, patterns, and semantic meaning. \n",
    "With the advancement of NLP technology, computers are becoming increasingly proficient in understanding and generating human language, \n",
    "leading to significant advancements in areas such as virtual assistants, chatbots, automated translation services, and information retrieval systems.\n",
    "\"\"\""
   ]
  },
  {
   "cell_type": "code",
   "execution_count": 4,
   "id": "e6354fbd-3554-4343-8911-147ddf46e3dd",
   "metadata": {},
   "outputs": [
    {
     "data": {
      "text/plain": [
       "['Natural Language Processing (NLP) is a field of artificial intelligence (AI) that focuses on enabling computers to understand, interpret, \\nand generate human language in a way that is both meaningful and contextually relevant. It encompasses a broad range of tasks and applications, \\nincluding text analysis, sentiment analysis, language translation, speech recognition, and question answering. NLP techniques leverage computational linguistics, \\nmachine learning, and deep learning algorithms to process and analyze large volumes of textual data, extracting valuable insights, patterns, and semantic meaning. \\nWith the advancement of NLP technology, computers are becoming increasingly proficient in understanding and generating human language, \\nleading to significant advancements in areas such as virtual assistants, chatbots, automated translation services, and information retrieval systems.']"
      ]
     },
     "execution_count": 4,
     "metadata": {},
     "output_type": "execute_result"
    }
   ],
   "source": [
    "texts = text_splitter.split_text(data)\n",
    "texts"
   ]
  },
  {
   "cell_type": "code",
   "execution_count": 5,
   "id": "427b9f36-9272-4a66-954b-9e5a31490f41",
   "metadata": {},
   "outputs": [
    {
     "data": {
      "text/plain": [
       "[Document(page_content='Natural Language Processing (NLP) is a field of artificial intelligence (AI) that focuses on enabling computers to understand, interpret, \\nand generate human language in a way that is both meaningful and contextually relevant. It encompasses a broad range of tasks and applications, \\nincluding text analysis, sentiment analysis, language translation, speech recognition, and question answering. NLP techniques leverage computational linguistics, \\nmachine learning, and deep learning algorithms to process and analyze large volumes of textual data, extracting valuable insights, patterns, and semantic meaning. \\nWith the advancement of NLP technology, computers are becoming increasingly proficient in understanding and generating human language, \\nleading to significant advancements in areas such as virtual assistants, chatbots, automated translation services, and information retrieval systems.')]"
      ]
     },
     "execution_count": 5,
     "metadata": {},
     "output_type": "execute_result"
    }
   ],
   "source": [
    "docs = [Document(page_content=t) for t in texts]\n",
    "docs\n",
    "\n",
    "# loader = WebBaseLoader(\"https://medium.com/@crypter70/bank-customer-churn-prediction-using-machine-learning-514516ecf82e\")\n",
    "# docs = loader.load()"
   ]
  },
  {
   "cell_type": "markdown",
   "id": "1f826192-1d3c-4299-9cab-a301613891d9",
   "metadata": {},
   "source": [
    "## Define Chain and Perform Summarization"
   ]
  },
  {
   "cell_type": "code",
   "execution_count": 6,
   "id": "a073af56-aa46-41ab-952d-93cfc390ec41",
   "metadata": {},
   "outputs": [
    {
     "name": "stdout",
     "output_type": "stream",
     "text": [
      "\n",
      "\n",
      "\u001b[1m> Entering new StuffDocumentsChain chain...\u001b[0m\n",
      "\n",
      "\n",
      "\u001b[1m> Entering new LLMChain chain...\u001b[0m\n",
      "Prompt after formatting:\n",
      "\u001b[32;1m\u001b[1;3mWrite a concise summary of the following:\n",
      "\n",
      "\n",
      "\"Natural Language Processing (NLP) is a field of artificial intelligence (AI) that focuses on enabling computers to understand, interpret, \n",
      "and generate human language in a way that is both meaningful and contextually relevant. It encompasses a broad range of tasks and applications, \n",
      "including text analysis, sentiment analysis, language translation, speech recognition, and question answering. NLP techniques leverage computational linguistics, \n",
      "machine learning, and deep learning algorithms to process and analyze large volumes of textual data, extracting valuable insights, patterns, and semantic meaning. \n",
      "With the advancement of NLP technology, computers are becoming increasingly proficient in understanding and generating human language, \n",
      "leading to significant advancements in areas such as virtual assistants, chatbots, automated translation services, and information retrieval systems.\"\n",
      "\n",
      "\n",
      "CONCISE SUMMARY:\u001b[0m\n",
      "\n",
      "\u001b[1m> Finished chain.\u001b[0m\n",
      "\n",
      "\u001b[1m> Finished chain.\u001b[0m\n"
     ]
    },
    {
     "data": {
      "text/plain": [
       "{'input_documents': [Document(page_content='Natural Language Processing (NLP) is a field of artificial intelligence (AI) that focuses on enabling computers to understand, interpret, \\nand generate human language in a way that is both meaningful and contextually relevant. It encompasses a broad range of tasks and applications, \\nincluding text analysis, sentiment analysis, language translation, speech recognition, and question answering. NLP techniques leverage computational linguistics, \\nmachine learning, and deep learning algorithms to process and analyze large volumes of textual data, extracting valuable insights, patterns, and semantic meaning. \\nWith the advancement of NLP technology, computers are becoming increasingly proficient in understanding and generating human language, \\nleading to significant advancements in areas such as virtual assistants, chatbots, automated translation services, and information retrieval systems.')],\n",
       " 'output_text': 'Natural Language Processing (NLP) is a field of artificial intelligence (AI) that focuses on enabling computers to understand, interpret, and generate human language. NLP techniques leverage computational linguistics, machine learning, and deep learning algorithms to process and analyze large volumes of textual data.'}"
      ]
     },
     "execution_count": 6,
     "metadata": {},
     "output_type": "execute_result"
    }
   ],
   "source": [
    "chain = load_summarize_chain(llm, chain_type=\"stuff\", verbose=True)\n",
    "summary = chain.invoke(docs)\n",
    "summary"
   ]
  },
  {
   "cell_type": "code",
   "execution_count": 7,
   "id": "a2872e44-076e-4818-8158-f86b22f09195",
   "metadata": {},
   "outputs": [
    {
     "data": {
      "text/plain": [
       "'Natural Language Processing (NLP) is a field of artificial intelligence (AI) that focuses on enabling computers to understand, interpret, and generate human language. NLP techniques leverage computational linguistics, machine learning, and deep learning algorithms to process and analyze large volumes of textual data.'"
      ]
     },
     "execution_count": 7,
     "metadata": {},
     "output_type": "execute_result"
    }
   ],
   "source": [
    "summary['output_text']"
   ]
  }
 ],
 "metadata": {
  "kernelspec": {
   "display_name": "nlp",
   "language": "python",
   "name": "nlp"
  },
  "language_info": {
   "codemirror_mode": {
    "name": "ipython",
    "version": 3
   },
   "file_extension": ".py",
   "mimetype": "text/x-python",
   "name": "python",
   "nbconvert_exporter": "python",
   "pygments_lexer": "ipython3",
   "version": "3.11.8"
  }
 },
 "nbformat": 4,
 "nbformat_minor": 5
}
